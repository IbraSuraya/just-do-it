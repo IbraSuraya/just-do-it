{
 "cells": [
  {
   "cell_type": "markdown",
   "metadata": {},
   "source": [
    "### Todo\n",
    "Tujuan\n",
    "- mengumpulkan seluruh data yang dibutuhkan;\n",
    "- menilai kualitas dari data yang telah dikumpulkan; dan\n",
    "- membersihkan data tersebut sehingga siap untuk dianalisi\n",
    "\n",
    "Alur Latihan\n",
    "- Tahap persiapan.\n",
    "- Tahap gathering data.\n",
    "- Tahap assessing data.\n",
    "- Tahap cleaning data."
   ]
  },
  {
   "cell_type": "markdown",
   "metadata": {},
   "source": [
    "### Dataset"
   ]
  },
  {
   "cell_type": "markdown",
   "metadata": {},
   "source": [
    "- https://www.kaggle.com/datasets/ruchi798/shopping-cart-database"
   ]
  },
  {
   "cell_type": "markdown",
   "metadata": {},
   "source": [
    "### Library"
   ]
  },
  {
   "cell_type": "code",
   "execution_count": 3,
   "metadata": {},
   "outputs": [],
   "source": [
    "import numpy as np\n",
    "import pandas as pd\n",
    "import matplotlib.pyplot as plt\n",
    "import seaborn as sns\n",
    "from tabulate import tabulate"
   ]
  },
  {
   "cell_type": "markdown",
   "metadata": {},
   "source": [
    "### Gathering Data"
   ]
  },
  {
   "cell_type": "code",
   "execution_count": 4,
   "metadata": {},
   "outputs": [
    {
     "data": {
      "text/html": [
       "<div>\n",
       "<style scoped>\n",
       "    .dataframe tbody tr th:only-of-type {\n",
       "        vertical-align: middle;\n",
       "    }\n",
       "\n",
       "    .dataframe tbody tr th {\n",
       "        vertical-align: top;\n",
       "    }\n",
       "\n",
       "    .dataframe thead th {\n",
       "        text-align: right;\n",
       "    }\n",
       "</style>\n",
       "<table border=\"1\" class=\"dataframe\">\n",
       "  <thead>\n",
       "    <tr style=\"text-align: right;\">\n",
       "      <th></th>\n",
       "      <th>customer_id</th>\n",
       "      <th>customer_name</th>\n",
       "      <th>gender</th>\n",
       "      <th>age</th>\n",
       "      <th>home_address</th>\n",
       "      <th>zip_code</th>\n",
       "      <th>city</th>\n",
       "      <th>state</th>\n",
       "      <th>country</th>\n",
       "    </tr>\n",
       "  </thead>\n",
       "  <tbody>\n",
       "    <tr>\n",
       "      <th>0</th>\n",
       "      <td>1</td>\n",
       "      <td>fulan 1</td>\n",
       "      <td>Female</td>\n",
       "      <td>30</td>\n",
       "      <td>8606 Victoria TerraceSuite 560</td>\n",
       "      <td>5464</td>\n",
       "      <td>Johnstonhaven</td>\n",
       "      <td>Northern Territory</td>\n",
       "      <td>Australia</td>\n",
       "    </tr>\n",
       "    <tr>\n",
       "      <th>1</th>\n",
       "      <td>2</td>\n",
       "      <td>fulan 2</td>\n",
       "      <td>Prefer not to say</td>\n",
       "      <td>69</td>\n",
       "      <td>8327 Kirlin SummitApt. 461</td>\n",
       "      <td>8223</td>\n",
       "      <td>New Zacharyfort</td>\n",
       "      <td>South Australia</td>\n",
       "      <td>Australia</td>\n",
       "    </tr>\n",
       "  </tbody>\n",
       "</table>\n",
       "</div>"
      ],
      "text/plain": [
       "   customer_id customer_name             gender  age  \\\n",
       "0            1       fulan 1             Female   30   \n",
       "1            2       fulan 2  Prefer not to say   69   \n",
       "\n",
       "                     home_address  zip_code             city  \\\n",
       "0  8606 Victoria TerraceSuite 560      5464    Johnstonhaven   \n",
       "1      8327 Kirlin SummitApt. 461      8223  New Zacharyfort   \n",
       "\n",
       "                state    country  \n",
       "0  Northern Territory  Australia  \n",
       "1     South Australia  Australia  "
      ]
     },
     "execution_count": 4,
     "metadata": {},
     "output_type": "execute_result"
    }
   ],
   "source": [
    "customers_df = pd.read_csv(\"https://raw.githubusercontent.com/dicodingacademy/dicoding_dataset/main/DicodingCollection/customers.csv\")\n",
    "customers_df.head(2)"
   ]
  },
  {
   "cell_type": "code",
   "execution_count": 5,
   "metadata": {},
   "outputs": [
    {
     "data": {
      "text/html": [
       "<div>\n",
       "<style scoped>\n",
       "    .dataframe tbody tr th:only-of-type {\n",
       "        vertical-align: middle;\n",
       "    }\n",
       "\n",
       "    .dataframe tbody tr th {\n",
       "        vertical-align: top;\n",
       "    }\n",
       "\n",
       "    .dataframe thead th {\n",
       "        text-align: right;\n",
       "    }\n",
       "</style>\n",
       "<table border=\"1\" class=\"dataframe\">\n",
       "  <thead>\n",
       "    <tr style=\"text-align: right;\">\n",
       "      <th></th>\n",
       "      <th>order_id</th>\n",
       "      <th>customer_id</th>\n",
       "      <th>payment</th>\n",
       "      <th>order_date</th>\n",
       "      <th>delivery_date</th>\n",
       "    </tr>\n",
       "  </thead>\n",
       "  <tbody>\n",
       "    <tr>\n",
       "      <th>0</th>\n",
       "      <td>1</td>\n",
       "      <td>64</td>\n",
       "      <td>30811</td>\n",
       "      <td>2021-8-30</td>\n",
       "      <td>2021-09-24</td>\n",
       "    </tr>\n",
       "    <tr>\n",
       "      <th>1</th>\n",
       "      <td>2</td>\n",
       "      <td>473</td>\n",
       "      <td>50490</td>\n",
       "      <td>2021-2-3</td>\n",
       "      <td>2021-02-13</td>\n",
       "    </tr>\n",
       "  </tbody>\n",
       "</table>\n",
       "</div>"
      ],
      "text/plain": [
       "   order_id  customer_id  payment order_date delivery_date\n",
       "0         1           64    30811  2021-8-30    2021-09-24\n",
       "1         2          473    50490   2021-2-3    2021-02-13"
      ]
     },
     "execution_count": 5,
     "metadata": {},
     "output_type": "execute_result"
    }
   ],
   "source": [
    "orders_df = pd.read_csv(\"https://raw.githubusercontent.com/dicodingacademy/dicoding_dataset/main/DicodingCollection/orders.csv\")\n",
    "orders_df.head(2)"
   ]
  },
  {
   "cell_type": "code",
   "execution_count": 6,
   "metadata": {},
   "outputs": [
    {
     "data": {
      "text/html": [
       "<div>\n",
       "<style scoped>\n",
       "    .dataframe tbody tr th:only-of-type {\n",
       "        vertical-align: middle;\n",
       "    }\n",
       "\n",
       "    .dataframe tbody tr th {\n",
       "        vertical-align: top;\n",
       "    }\n",
       "\n",
       "    .dataframe thead th {\n",
       "        text-align: right;\n",
       "    }\n",
       "</style>\n",
       "<table border=\"1\" class=\"dataframe\">\n",
       "  <thead>\n",
       "    <tr style=\"text-align: right;\">\n",
       "      <th></th>\n",
       "      <th>product_id</th>\n",
       "      <th>product_type</th>\n",
       "      <th>product_name</th>\n",
       "      <th>size</th>\n",
       "      <th>colour</th>\n",
       "      <th>price</th>\n",
       "      <th>quantity</th>\n",
       "      <th>description</th>\n",
       "    </tr>\n",
       "  </thead>\n",
       "  <tbody>\n",
       "    <tr>\n",
       "      <th>0</th>\n",
       "      <td>0</td>\n",
       "      <td>Shirt</td>\n",
       "      <td>Oxford Cloth</td>\n",
       "      <td>XS</td>\n",
       "      <td>red</td>\n",
       "      <td>114</td>\n",
       "      <td>66</td>\n",
       "      <td>A red coloured, XS sized, Oxford Cloth Shirt</td>\n",
       "    </tr>\n",
       "    <tr>\n",
       "      <th>1</th>\n",
       "      <td>1</td>\n",
       "      <td>Shirt</td>\n",
       "      <td>Oxford Cloth</td>\n",
       "      <td>S</td>\n",
       "      <td>red</td>\n",
       "      <td>114</td>\n",
       "      <td>53</td>\n",
       "      <td>A red coloured, S sized, Oxford Cloth Shirt</td>\n",
       "    </tr>\n",
       "  </tbody>\n",
       "</table>\n",
       "</div>"
      ],
      "text/plain": [
       "   product_id product_type  product_name size colour  price  quantity  \\\n",
       "0           0        Shirt  Oxford Cloth   XS    red    114        66   \n",
       "1           1        Shirt  Oxford Cloth    S    red    114        53   \n",
       "\n",
       "                                    description  \n",
       "0  A red coloured, XS sized, Oxford Cloth Shirt  \n",
       "1   A red coloured, S sized, Oxford Cloth Shirt  "
      ]
     },
     "execution_count": 6,
     "metadata": {},
     "output_type": "execute_result"
    }
   ],
   "source": [
    "product_df = pd.read_csv(\"https://raw.githubusercontent.com/dicodingacademy/dicoding_dataset/main/DicodingCollection/products.csv\")\n",
    "product_df.head(2)"
   ]
  },
  {
   "cell_type": "code",
   "execution_count": 7,
   "metadata": {},
   "outputs": [
    {
     "data": {
      "text/html": [
       "<div>\n",
       "<style scoped>\n",
       "    .dataframe tbody tr th:only-of-type {\n",
       "        vertical-align: middle;\n",
       "    }\n",
       "\n",
       "    .dataframe tbody tr th {\n",
       "        vertical-align: top;\n",
       "    }\n",
       "\n",
       "    .dataframe thead th {\n",
       "        text-align: right;\n",
       "    }\n",
       "</style>\n",
       "<table border=\"1\" class=\"dataframe\">\n",
       "  <thead>\n",
       "    <tr style=\"text-align: right;\">\n",
       "      <th></th>\n",
       "      <th>sales_id</th>\n",
       "      <th>order_id</th>\n",
       "      <th>product_id</th>\n",
       "      <th>price_per_unit</th>\n",
       "      <th>quantity</th>\n",
       "      <th>total_price</th>\n",
       "    </tr>\n",
       "  </thead>\n",
       "  <tbody>\n",
       "    <tr>\n",
       "      <th>0</th>\n",
       "      <td>0</td>\n",
       "      <td>1</td>\n",
       "      <td>218</td>\n",
       "      <td>106</td>\n",
       "      <td>2</td>\n",
       "      <td>212.0</td>\n",
       "    </tr>\n",
       "    <tr>\n",
       "      <th>1</th>\n",
       "      <td>1</td>\n",
       "      <td>1</td>\n",
       "      <td>481</td>\n",
       "      <td>118</td>\n",
       "      <td>1</td>\n",
       "      <td>118.0</td>\n",
       "    </tr>\n",
       "  </tbody>\n",
       "</table>\n",
       "</div>"
      ],
      "text/plain": [
       "   sales_id  order_id  product_id  price_per_unit  quantity  total_price\n",
       "0         0         1         218             106         2        212.0\n",
       "1         1         1         481             118         1        118.0"
      ]
     },
     "execution_count": 7,
     "metadata": {},
     "output_type": "execute_result"
    }
   ],
   "source": [
    "sales_df = pd.read_csv(\"https://raw.githubusercontent.com/dicodingacademy/dicoding_dataset/main/DicodingCollection/sales.csv\")\n",
    "sales_df.head(2)"
   ]
  },
  {
   "cell_type": "markdown",
   "metadata": {},
   "source": [
    "### Assessing Data"
   ]
  },
  {
   "cell_type": "markdown",
   "metadata": {},
   "source": [
    "#### Menilai Data customers_df"
   ]
  },
  {
   "cell_type": "code",
   "execution_count": 8,
   "metadata": {},
   "outputs": [
    {
     "name": "stdout",
     "output_type": "stream",
     "text": [
      "<class 'pandas.core.frame.DataFrame'>\n",
      "RangeIndex: 1007 entries, 0 to 1006\n",
      "Data columns (total 9 columns):\n",
      " #   Column         Non-Null Count  Dtype \n",
      "---  ------         --------------  ----- \n",
      " 0   customer_id    1007 non-null   int64 \n",
      " 1   customer_name  1007 non-null   object\n",
      " 2   gender         989 non-null    object\n",
      " 3   age            1007 non-null   int64 \n",
      " 4   home_address   1007 non-null   object\n",
      " 5   zip_code       1007 non-null   int64 \n",
      " 6   city           1007 non-null   object\n",
      " 7   state          1007 non-null   object\n",
      " 8   country        1007 non-null   object\n",
      "dtypes: int64(3), object(6)\n",
      "memory usage: 70.9+ KB\n"
     ]
    }
   ],
   "source": [
    "customers_df.info()"
   ]
  },
  {
   "cell_type": "code",
   "execution_count": 9,
   "metadata": {},
   "outputs": [
    {
     "data": {
      "text/plain": [
       "customer_id       0\n",
       "customer_name     0\n",
       "gender           18\n",
       "age               0\n",
       "home_address      0\n",
       "zip_code          0\n",
       "city              0\n",
       "state             0\n",
       "country           0\n",
       "dtype: int64"
      ]
     },
     "execution_count": 9,
     "metadata": {},
     "output_type": "execute_result"
    }
   ],
   "source": [
    "customers_df.isna().sum()"
   ]
  },
  {
   "cell_type": "code",
   "execution_count": 10,
   "metadata": {},
   "outputs": [
    {
     "name": "stdout",
     "output_type": "stream",
     "text": [
      "Jumlah duplikasi:  6\n"
     ]
    }
   ],
   "source": [
    "print(\"Jumlah duplikasi: \", customers_df.duplicated().sum())"
   ]
  },
  {
   "cell_type": "code",
   "execution_count": 11,
   "metadata": {},
   "outputs": [
    {
     "data": {
      "text/html": [
       "<div>\n",
       "<style scoped>\n",
       "    .dataframe tbody tr th:only-of-type {\n",
       "        vertical-align: middle;\n",
       "    }\n",
       "\n",
       "    .dataframe tbody tr th {\n",
       "        vertical-align: top;\n",
       "    }\n",
       "\n",
       "    .dataframe thead th {\n",
       "        text-align: right;\n",
       "    }\n",
       "</style>\n",
       "<table border=\"1\" class=\"dataframe\">\n",
       "  <thead>\n",
       "    <tr style=\"text-align: right;\">\n",
       "      <th></th>\n",
       "      <th>customer_id</th>\n",
       "      <th>age</th>\n",
       "      <th>zip_code</th>\n",
       "    </tr>\n",
       "  </thead>\n",
       "  <tbody>\n",
       "    <tr>\n",
       "      <th>count</th>\n",
       "      <td>1007.000000</td>\n",
       "      <td>1007.000000</td>\n",
       "      <td>1007.000000</td>\n",
       "    </tr>\n",
       "    <tr>\n",
       "      <th>mean</th>\n",
       "      <td>501.726912</td>\n",
       "      <td>50.929494</td>\n",
       "      <td>5012.538232</td>\n",
       "    </tr>\n",
       "    <tr>\n",
       "      <th>std</th>\n",
       "      <td>288.673238</td>\n",
       "      <td>30.516299</td>\n",
       "      <td>2885.836112</td>\n",
       "    </tr>\n",
       "    <tr>\n",
       "      <th>min</th>\n",
       "      <td>1.000000</td>\n",
       "      <td>20.000000</td>\n",
       "      <td>2.000000</td>\n",
       "    </tr>\n",
       "    <tr>\n",
       "      <th>25%</th>\n",
       "      <td>252.500000</td>\n",
       "      <td>34.000000</td>\n",
       "      <td>2403.500000</td>\n",
       "    </tr>\n",
       "    <tr>\n",
       "      <th>50%</th>\n",
       "      <td>502.000000</td>\n",
       "      <td>50.000000</td>\n",
       "      <td>5087.000000</td>\n",
       "    </tr>\n",
       "    <tr>\n",
       "      <th>75%</th>\n",
       "      <td>751.500000</td>\n",
       "      <td>65.000000</td>\n",
       "      <td>7493.500000</td>\n",
       "    </tr>\n",
       "    <tr>\n",
       "      <th>max</th>\n",
       "      <td>1000.000000</td>\n",
       "      <td>700.000000</td>\n",
       "      <td>9998.000000</td>\n",
       "    </tr>\n",
       "  </tbody>\n",
       "</table>\n",
       "</div>"
      ],
      "text/plain": [
       "       customer_id          age     zip_code\n",
       "count  1007.000000  1007.000000  1007.000000\n",
       "mean    501.726912    50.929494  5012.538232\n",
       "std     288.673238    30.516299  2885.836112\n",
       "min       1.000000    20.000000     2.000000\n",
       "25%     252.500000    34.000000  2403.500000\n",
       "50%     502.000000    50.000000  5087.000000\n",
       "75%     751.500000    65.000000  7493.500000\n",
       "max    1000.000000   700.000000  9998.000000"
      ]
     },
     "execution_count": 11,
     "metadata": {},
     "output_type": "execute_result"
    }
   ],
   "source": [
    "customers_df.describe()\n",
    "# terdapat keanehan pada nilai maksimum yang terdapat pada kolom age. Ini kemungkinan besar terjadi karena adanya inaccurate value pada kolom tersebut. (Max Age 700)"
   ]
  },
  {
   "cell_type": "markdown",
   "metadata": {},
   "source": [
    "#### Menilai Data orders_df"
   ]
  },
  {
   "cell_type": "code",
   "execution_count": 12,
   "metadata": {},
   "outputs": [
    {
     "name": "stdout",
     "output_type": "stream",
     "text": [
      "<class 'pandas.core.frame.DataFrame'>\n",
      "RangeIndex: 1000 entries, 0 to 999\n",
      "Data columns (total 5 columns):\n",
      " #   Column         Non-Null Count  Dtype \n",
      "---  ------         --------------  ----- \n",
      " 0   order_id       1000 non-null   int64 \n",
      " 1   customer_id    1000 non-null   int64 \n",
      " 2   payment        1000 non-null   int64 \n",
      " 3   order_date     1000 non-null   object\n",
      " 4   delivery_date  1000 non-null   object\n",
      "dtypes: int64(3), object(2)\n",
      "memory usage: 39.2+ KB\n"
     ]
    }
   ],
   "source": [
    "orders_df.info()\n",
    "# Terdapat kesalahan tipe data untuk kolom order_date & delivery_date."
   ]
  },
  {
   "cell_type": "code",
   "execution_count": 13,
   "metadata": {},
   "outputs": [
    {
     "name": "stdout",
     "output_type": "stream",
     "text": [
      "order_id         0\n",
      "customer_id      0\n",
      "payment          0\n",
      "order_date       0\n",
      "delivery_date    0\n",
      "dtype: int64\n",
      "\n",
      "Jumlah duplikasi:  0\n"
     ]
    },
    {
     "data": {
      "text/html": [
       "<div>\n",
       "<style scoped>\n",
       "    .dataframe tbody tr th:only-of-type {\n",
       "        vertical-align: middle;\n",
       "    }\n",
       "\n",
       "    .dataframe tbody tr th {\n",
       "        vertical-align: top;\n",
       "    }\n",
       "\n",
       "    .dataframe thead th {\n",
       "        text-align: right;\n",
       "    }\n",
       "</style>\n",
       "<table border=\"1\" class=\"dataframe\">\n",
       "  <thead>\n",
       "    <tr style=\"text-align: right;\">\n",
       "      <th></th>\n",
       "      <th>order_id</th>\n",
       "      <th>customer_id</th>\n",
       "      <th>payment</th>\n",
       "    </tr>\n",
       "  </thead>\n",
       "  <tbody>\n",
       "    <tr>\n",
       "      <th>count</th>\n",
       "      <td>1000.000000</td>\n",
       "      <td>1000.000000</td>\n",
       "      <td>1000.000000</td>\n",
       "    </tr>\n",
       "    <tr>\n",
       "      <th>mean</th>\n",
       "      <td>500.500000</td>\n",
       "      <td>506.640000</td>\n",
       "      <td>33972.936000</td>\n",
       "    </tr>\n",
       "    <tr>\n",
       "      <th>std</th>\n",
       "      <td>288.819436</td>\n",
       "      <td>277.115502</td>\n",
       "      <td>14451.609047</td>\n",
       "    </tr>\n",
       "    <tr>\n",
       "      <th>min</th>\n",
       "      <td>1.000000</td>\n",
       "      <td>1.000000</td>\n",
       "      <td>10043.000000</td>\n",
       "    </tr>\n",
       "    <tr>\n",
       "      <th>25%</th>\n",
       "      <td>250.750000</td>\n",
       "      <td>275.250000</td>\n",
       "      <td>21329.250000</td>\n",
       "    </tr>\n",
       "    <tr>\n",
       "      <th>50%</th>\n",
       "      <td>500.500000</td>\n",
       "      <td>515.000000</td>\n",
       "      <td>33697.500000</td>\n",
       "    </tr>\n",
       "    <tr>\n",
       "      <th>75%</th>\n",
       "      <td>750.250000</td>\n",
       "      <td>737.250000</td>\n",
       "      <td>46249.000000</td>\n",
       "    </tr>\n",
       "    <tr>\n",
       "      <th>max</th>\n",
       "      <td>1000.000000</td>\n",
       "      <td>1000.000000</td>\n",
       "      <td>59910.000000</td>\n",
       "    </tr>\n",
       "  </tbody>\n",
       "</table>\n",
       "</div>"
      ],
      "text/plain": [
       "          order_id  customer_id       payment\n",
       "count  1000.000000  1000.000000   1000.000000\n",
       "mean    500.500000   506.640000  33972.936000\n",
       "std     288.819436   277.115502  14451.609047\n",
       "min       1.000000     1.000000  10043.000000\n",
       "25%     250.750000   275.250000  21329.250000\n",
       "50%     500.500000   515.000000  33697.500000\n",
       "75%     750.250000   737.250000  46249.000000\n",
       "max    1000.000000  1000.000000  59910.000000"
      ]
     },
     "execution_count": 13,
     "metadata": {},
     "output_type": "execute_result"
    }
   ],
   "source": [
    "print(orders_df.isna().sum())\n",
    "print(\"\\nJumlah duplikasi: \",orders_df.duplicated().sum())\n",
    "orders_df.describe()"
   ]
  },
  {
   "cell_type": "markdown",
   "metadata": {},
   "source": [
    "#### Menilai Data product_df"
   ]
  },
  {
   "cell_type": "code",
   "execution_count": 14,
   "metadata": {},
   "outputs": [
    {
     "name": "stdout",
     "output_type": "stream",
     "text": [
      "<class 'pandas.core.frame.DataFrame'>\n",
      "RangeIndex: 1266 entries, 0 to 1265\n",
      "Data columns (total 8 columns):\n",
      " #   Column        Non-Null Count  Dtype \n",
      "---  ------        --------------  ----- \n",
      " 0   product_id    1266 non-null   int64 \n",
      " 1   product_type  1266 non-null   object\n",
      " 2   product_name  1266 non-null   object\n",
      " 3   size          1266 non-null   object\n",
      " 4   colour        1266 non-null   object\n",
      " 5   price         1266 non-null   int64 \n",
      " 6   quantity      1266 non-null   int64 \n",
      " 7   description   1266 non-null   object\n",
      "dtypes: int64(3), object(5)\n",
      "memory usage: 79.2+ KB\n"
     ]
    }
   ],
   "source": [
    "product_df.info()"
   ]
  },
  {
   "cell_type": "code",
   "execution_count": 15,
   "metadata": {},
   "outputs": [
    {
     "name": "stdout",
     "output_type": "stream",
     "text": [
      "product_id      0\n",
      "product_type    0\n",
      "product_name    0\n",
      "size            0\n",
      "colour          0\n",
      "price           0\n",
      "quantity        0\n",
      "description     0\n",
      "dtype: int64\n",
      "\n",
      "Jumlah duplikasi:  6\n"
     ]
    },
    {
     "data": {
      "text/html": [
       "<div>\n",
       "<style scoped>\n",
       "    .dataframe tbody tr th:only-of-type {\n",
       "        vertical-align: middle;\n",
       "    }\n",
       "\n",
       "    .dataframe tbody tr th {\n",
       "        vertical-align: top;\n",
       "    }\n",
       "\n",
       "    .dataframe thead th {\n",
       "        text-align: right;\n",
       "    }\n",
       "</style>\n",
       "<table border=\"1\" class=\"dataframe\">\n",
       "  <thead>\n",
       "    <tr style=\"text-align: right;\">\n",
       "      <th></th>\n",
       "      <th>product_id</th>\n",
       "      <th>price</th>\n",
       "      <th>quantity</th>\n",
       "    </tr>\n",
       "  </thead>\n",
       "  <tbody>\n",
       "    <tr>\n",
       "      <th>count</th>\n",
       "      <td>1266.000000</td>\n",
       "      <td>1266.000000</td>\n",
       "      <td>1266.000000</td>\n",
       "    </tr>\n",
       "    <tr>\n",
       "      <th>mean</th>\n",
       "      <td>627.926540</td>\n",
       "      <td>105.812006</td>\n",
       "      <td>60.138231</td>\n",
       "    </tr>\n",
       "    <tr>\n",
       "      <th>std</th>\n",
       "      <td>363.971586</td>\n",
       "      <td>9.715611</td>\n",
       "      <td>11.682791</td>\n",
       "    </tr>\n",
       "    <tr>\n",
       "      <th>min</th>\n",
       "      <td>0.000000</td>\n",
       "      <td>90.000000</td>\n",
       "      <td>40.000000</td>\n",
       "    </tr>\n",
       "    <tr>\n",
       "      <th>25%</th>\n",
       "      <td>313.250000</td>\n",
       "      <td>95.250000</td>\n",
       "      <td>50.000000</td>\n",
       "    </tr>\n",
       "    <tr>\n",
       "      <th>50%</th>\n",
       "      <td>626.500000</td>\n",
       "      <td>109.000000</td>\n",
       "      <td>60.000000</td>\n",
       "    </tr>\n",
       "    <tr>\n",
       "      <th>75%</th>\n",
       "      <td>942.750000</td>\n",
       "      <td>114.000000</td>\n",
       "      <td>70.000000</td>\n",
       "    </tr>\n",
       "    <tr>\n",
       "      <th>max</th>\n",
       "      <td>1259.000000</td>\n",
       "      <td>119.000000</td>\n",
       "      <td>80.000000</td>\n",
       "    </tr>\n",
       "  </tbody>\n",
       "</table>\n",
       "</div>"
      ],
      "text/plain": [
       "        product_id        price     quantity\n",
       "count  1266.000000  1266.000000  1266.000000\n",
       "mean    627.926540   105.812006    60.138231\n",
       "std     363.971586     9.715611    11.682791\n",
       "min       0.000000    90.000000    40.000000\n",
       "25%     313.250000    95.250000    50.000000\n",
       "50%     626.500000   109.000000    60.000000\n",
       "75%     942.750000   114.000000    70.000000\n",
       "max    1259.000000   119.000000    80.000000"
      ]
     },
     "execution_count": 15,
     "metadata": {},
     "output_type": "execute_result"
    }
   ],
   "source": [
    "print(product_df.isna().sum())\n",
    "print(\"\\nJumlah duplikasi: \", product_df.duplicated().sum())\n",
    "product_df.describe()"
   ]
  },
  {
   "cell_type": "markdown",
   "metadata": {},
   "source": [
    "#### Menilai Data sales_df"
   ]
  },
  {
   "cell_type": "code",
   "execution_count": 16,
   "metadata": {},
   "outputs": [
    {
     "name": "stdout",
     "output_type": "stream",
     "text": [
      "<class 'pandas.core.frame.DataFrame'>\n",
      "RangeIndex: 5000 entries, 0 to 4999\n",
      "Data columns (total 6 columns):\n",
      " #   Column          Non-Null Count  Dtype  \n",
      "---  ------          --------------  -----  \n",
      " 0   sales_id        5000 non-null   int64  \n",
      " 1   order_id        5000 non-null   int64  \n",
      " 2   product_id      5000 non-null   int64  \n",
      " 3   price_per_unit  5000 non-null   int64  \n",
      " 4   quantity        5000 non-null   int64  \n",
      " 5   total_price     4981 non-null   float64\n",
      "dtypes: float64(1), int64(5)\n",
      "memory usage: 234.5 KB\n"
     ]
    }
   ],
   "source": [
    "sales_df.info()"
   ]
  },
  {
   "cell_type": "code",
   "execution_count": 17,
   "metadata": {},
   "outputs": [
    {
     "name": "stdout",
     "output_type": "stream",
     "text": [
      "sales_id           0\n",
      "order_id           0\n",
      "product_id         0\n",
      "price_per_unit     0\n",
      "quantity           0\n",
      "total_price       19\n",
      "dtype: int64\n",
      "\n",
      "Jumlah duplikasi:  0\n"
     ]
    },
    {
     "data": {
      "text/html": [
       "<div>\n",
       "<style scoped>\n",
       "    .dataframe tbody tr th:only-of-type {\n",
       "        vertical-align: middle;\n",
       "    }\n",
       "\n",
       "    .dataframe tbody tr th {\n",
       "        vertical-align: top;\n",
       "    }\n",
       "\n",
       "    .dataframe thead th {\n",
       "        text-align: right;\n",
       "    }\n",
       "</style>\n",
       "<table border=\"1\" class=\"dataframe\">\n",
       "  <thead>\n",
       "    <tr style=\"text-align: right;\">\n",
       "      <th></th>\n",
       "      <th>sales_id</th>\n",
       "      <th>order_id</th>\n",
       "      <th>product_id</th>\n",
       "      <th>price_per_unit</th>\n",
       "      <th>quantity</th>\n",
       "      <th>total_price</th>\n",
       "    </tr>\n",
       "  </thead>\n",
       "  <tbody>\n",
       "    <tr>\n",
       "      <th>count</th>\n",
       "      <td>5000.000000</td>\n",
       "      <td>5000.000000</td>\n",
       "      <td>5000.000000</td>\n",
       "      <td>5000.000000</td>\n",
       "      <td>5000.00000</td>\n",
       "      <td>4981.000000</td>\n",
       "    </tr>\n",
       "    <tr>\n",
       "      <th>mean</th>\n",
       "      <td>2499.500000</td>\n",
       "      <td>503.038200</td>\n",
       "      <td>634.053200</td>\n",
       "      <td>103.501600</td>\n",
       "      <td>1.99240</td>\n",
       "      <td>206.307368</td>\n",
       "    </tr>\n",
       "    <tr>\n",
       "      <th>std</th>\n",
       "      <td>1443.520003</td>\n",
       "      <td>285.964418</td>\n",
       "      <td>363.255794</td>\n",
       "      <td>9.195004</td>\n",
       "      <td>0.80751</td>\n",
       "      <td>86.352449</td>\n",
       "    </tr>\n",
       "    <tr>\n",
       "      <th>min</th>\n",
       "      <td>0.000000</td>\n",
       "      <td>1.000000</td>\n",
       "      <td>1.000000</td>\n",
       "      <td>90.000000</td>\n",
       "      <td>1.00000</td>\n",
       "      <td>90.000000</td>\n",
       "    </tr>\n",
       "    <tr>\n",
       "      <th>25%</th>\n",
       "      <td>1249.750000</td>\n",
       "      <td>258.000000</td>\n",
       "      <td>323.000000</td>\n",
       "      <td>95.000000</td>\n",
       "      <td>1.00000</td>\n",
       "      <td>112.000000</td>\n",
       "    </tr>\n",
       "    <tr>\n",
       "      <th>50%</th>\n",
       "      <td>2499.500000</td>\n",
       "      <td>504.500000</td>\n",
       "      <td>635.000000</td>\n",
       "      <td>102.000000</td>\n",
       "      <td>2.00000</td>\n",
       "      <td>204.000000</td>\n",
       "    </tr>\n",
       "    <tr>\n",
       "      <th>75%</th>\n",
       "      <td>3749.250000</td>\n",
       "      <td>749.000000</td>\n",
       "      <td>951.000000</td>\n",
       "      <td>112.000000</td>\n",
       "      <td>3.00000</td>\n",
       "      <td>285.000000</td>\n",
       "    </tr>\n",
       "    <tr>\n",
       "      <th>max</th>\n",
       "      <td>4999.000000</td>\n",
       "      <td>999.000000</td>\n",
       "      <td>1259.000000</td>\n",
       "      <td>119.000000</td>\n",
       "      <td>3.00000</td>\n",
       "      <td>357.000000</td>\n",
       "    </tr>\n",
       "  </tbody>\n",
       "</table>\n",
       "</div>"
      ],
      "text/plain": [
       "          sales_id     order_id   product_id  price_per_unit    quantity  \\\n",
       "count  5000.000000  5000.000000  5000.000000     5000.000000  5000.00000   \n",
       "mean   2499.500000   503.038200   634.053200      103.501600     1.99240   \n",
       "std    1443.520003   285.964418   363.255794        9.195004     0.80751   \n",
       "min       0.000000     1.000000     1.000000       90.000000     1.00000   \n",
       "25%    1249.750000   258.000000   323.000000       95.000000     1.00000   \n",
       "50%    2499.500000   504.500000   635.000000      102.000000     2.00000   \n",
       "75%    3749.250000   749.000000   951.000000      112.000000     3.00000   \n",
       "max    4999.000000   999.000000  1259.000000      119.000000     3.00000   \n",
       "\n",
       "       total_price  \n",
       "count  4981.000000  \n",
       "mean    206.307368  \n",
       "std      86.352449  \n",
       "min      90.000000  \n",
       "25%     112.000000  \n",
       "50%     204.000000  \n",
       "75%     285.000000  \n",
       "max     357.000000  "
      ]
     },
     "execution_count": 17,
     "metadata": {},
     "output_type": "execute_result"
    }
   ],
   "source": [
    "print(sales_df.isna().sum())\n",
    "print(\"\\nJumlah duplikasi: \", sales_df.duplicated().sum())\n",
    "sales_df.describe()"
   ]
  },
  {
   "cell_type": "markdown",
   "metadata": {},
   "source": [
    "### Cleaning Data"
   ]
  },
  {
   "cell_type": "markdown",
   "metadata": {},
   "source": [
    "#### Membersihkan Data customers_df"
   ]
  },
  {
   "cell_type": "code",
   "execution_count": 18,
   "metadata": {},
   "outputs": [
    {
     "name": "stdout",
     "output_type": "stream",
     "text": [
      "Jumlah duplikasi:  6\n",
      "Jumlah duplikasi:  0\n"
     ]
    }
   ],
   "source": [
    "# Menghilangkan duplicate data\n",
    "print(\"Jumlah duplikasi: \", customers_df.duplicated().sum())\n",
    "customers_df.drop_duplicates(inplace=True)\n",
    "print(\"Jumlah duplikasi: \", customers_df.duplicated().sum())"
   ]
  },
  {
   "cell_type": "code",
   "execution_count": 19,
   "metadata": {},
   "outputs": [
    {
     "name": "stdout",
     "output_type": "stream",
     "text": [
      "(18, 9)\n",
      "(0, 9)\n"
     ]
    }
   ],
   "source": [
    "# Menangani missing value\n",
    "\n",
    "# Menampilak record dengan age NaN\n",
    "# customers_df[customers_df.gender.isna()]\n",
    "\n",
    "# Hitung record masing-masing kategori age\n",
    "# customers_df.gender.value_counts()\n",
    "\n",
    "# Imputasi dengan kategori \"Prefer not to say\"\n",
    "print(customers_df[customers_df.gender.isna()].shape)\n",
    "customers_df.fillna(value=\"Prefer not to say\", inplace=True)\n",
    "print(customers_df[customers_df.gender.isna()].shape)\n"
   ]
  },
  {
   "cell_type": "code",
   "execution_count": 20,
   "metadata": {},
   "outputs": [
    {
     "name": "stdout",
     "output_type": "stream",
     "text": [
      "---  ---  ---------  -----------------  ---  --------------------------  ----  ----------  ---------------  ---------\n",
      "967  961  fulan 961  Prefer not to say  700  29 Farrell ParadeSuite 818  6528  New Joseph  South Australia  Australia\n",
      "---  ---  ---------  -----------------  ---  --------------------------  ----  ----------  ---------------  ---------\n",
      "---  ---  ---------  -----------------  ---  ----------------------  ----  ---------  ------------------  ---------\n",
      "215  216  fulan 216  Prefer not to say  500  038 Haley MewsApt. 810  3991  Bayertown  Northern Territory  Australia\n",
      "---  ---  ---------  -----------------  ---  ----------------------  ----  ---------  ------------------  ---------\n",
      "---  ---  ---------  -----------------  --  ---------------------------------  ----  ---------------------  ------------------  ---------\n",
      " 34   35  fulan 35   Male               80  3168 Bartoletti CrescentSuite 878   593  Port Lucas             Queensland          Australia\n",
      " 38   39  fulan 39   Prefer not to say  80  7440 Cameron Estate DrSuite 628    4622  North Victoriachester  Northern Territory  Australia\n",
      "142  143  fulan 143  Prefer not to say  80  87 Hahn Station StSuite 943        8254  New Ella               Victoria            Australia\n",
      "154  155  fulan 155  Male               80  85 Charles MallSuite 424           7841  Port Sophia            New South Wales     Australia\n",
      "170  171  fulan 171  Prefer not to say  80  16 Boyer WaySuite 018              6226  South Gabriel          Western Australia   Australia\n",
      "174  175  fulan 175  Prefer not to say  80  57 David MallSuite 596             3129  Haneton                South Australia     Australia\n",
      "181  182  fulan 182  Male               80  32 Thomas CrestSuite 753           2147  Archiefurt             Queensland          Australia\n",
      "235  236  fulan 236  Prefer not to say  80  64 Phillips RunApt. 722            2752  East Sienna            New South Wales     Australia\n",
      "424  424  fulan 424  Prefer not to say  80  03 Grant CrestSuite 228            5743  Lake Charliemouth      Western Australia   Australia\n",
      "438  438  fulan 438  Prefer not to say  80  569 Alyssa IslandApt. 766          6893  Hunterland             Western Australia   Australia\n",
      "495  495  fulan 495  Male               80  1798 Schultz MewsApt. 704          9409  Lake Caitlin           New South Wales     Australia\n",
      "524  524  fulan 524  Prefer not to say  80  0358 Ashley WayApt. 506            3345  Port Sebastianland     Queensland          Australia\n",
      "598  597  fulan 597  Prefer not to say  80  78 O'hara CircuitApt. 096          1966  Lake Michaelbury       South Australia     Australia\n",
      "703  702  fulan 702  Prefer not to say  80  61 Bosco WaySuite 775               685  Thompsonborough        Western Australia   Australia\n",
      "734  732  fulan 732  Prefer not to say  80  905 Stephanie BoulevardApt. 217    8114  Port Aaronton          Queensland          Australia\n",
      "---  ---  ---------  -----------------  --  ---------------------------------  ----  ---------------------  ------------------  ---------\n"
     ]
    },
    {
     "data": {
      "text/html": [
       "<div>\n",
       "<style scoped>\n",
       "    .dataframe tbody tr th:only-of-type {\n",
       "        vertical-align: middle;\n",
       "    }\n",
       "\n",
       "    .dataframe tbody tr th {\n",
       "        vertical-align: top;\n",
       "    }\n",
       "\n",
       "    .dataframe thead th {\n",
       "        text-align: right;\n",
       "    }\n",
       "</style>\n",
       "<table border=\"1\" class=\"dataframe\">\n",
       "  <thead>\n",
       "    <tr style=\"text-align: right;\">\n",
       "      <th></th>\n",
       "      <th>customer_id</th>\n",
       "      <th>age</th>\n",
       "      <th>zip_code</th>\n",
       "    </tr>\n",
       "  </thead>\n",
       "  <tbody>\n",
       "    <tr>\n",
       "      <th>count</th>\n",
       "      <td>1001.000000</td>\n",
       "      <td>1001.000000</td>\n",
       "      <td>1001.000000</td>\n",
       "    </tr>\n",
       "    <tr>\n",
       "      <th>mean</th>\n",
       "      <td>500.942058</td>\n",
       "      <td>49.874126</td>\n",
       "      <td>5000.693307</td>\n",
       "    </tr>\n",
       "    <tr>\n",
       "      <th>std</th>\n",
       "      <td>289.013599</td>\n",
       "      <td>17.644663</td>\n",
       "      <td>2886.084454</td>\n",
       "    </tr>\n",
       "    <tr>\n",
       "      <th>min</th>\n",
       "      <td>1.000000</td>\n",
       "      <td>20.000000</td>\n",
       "      <td>2.000000</td>\n",
       "    </tr>\n",
       "    <tr>\n",
       "      <th>25%</th>\n",
       "      <td>251.000000</td>\n",
       "      <td>34.000000</td>\n",
       "      <td>2398.000000</td>\n",
       "    </tr>\n",
       "    <tr>\n",
       "      <th>50%</th>\n",
       "      <td>501.000000</td>\n",
       "      <td>50.000000</td>\n",
       "      <td>5079.000000</td>\n",
       "    </tr>\n",
       "    <tr>\n",
       "      <th>75%</th>\n",
       "      <td>751.000000</td>\n",
       "      <td>65.000000</td>\n",
       "      <td>7454.000000</td>\n",
       "    </tr>\n",
       "    <tr>\n",
       "      <th>max</th>\n",
       "      <td>1000.000000</td>\n",
       "      <td>80.000000</td>\n",
       "      <td>9998.000000</td>\n",
       "    </tr>\n",
       "  </tbody>\n",
       "</table>\n",
       "</div>"
      ],
      "text/plain": [
       "       customer_id          age     zip_code\n",
       "count  1001.000000  1001.000000  1001.000000\n",
       "mean    500.942058    49.874126  5000.693307\n",
       "std     289.013599    17.644663  2886.084454\n",
       "min       1.000000    20.000000     2.000000\n",
       "25%     251.000000    34.000000  2398.000000\n",
       "50%     501.000000    50.000000  5079.000000\n",
       "75%     751.000000    65.000000  7454.000000\n",
       "max    1000.000000    80.000000  9998.000000"
      ]
     },
     "execution_count": 20,
     "metadata": {},
     "output_type": "execute_result"
    }
   ],
   "source": [
    "# Menangani inaccurate value\n",
    "\n",
    "# Mencari record dengan age 700\n",
    "customers_df[customers_df.age == customers_df.age.max()]\n",
    "\n",
    "print(tabulate(customers_df[customers_df.age == customers_df.age.max()]))\n",
    "# Replace 70, karena hal ini karena human error\n",
    "customers_df.age.replace(customers_df.age.max(), 70, inplace=True)\n",
    "print(tabulate(customers_df[customers_df.age == customers_df.age.max()]))\n",
    "# Replace 50, karena hal ini karena human error\n",
    "customers_df.age.replace(customers_df.age.max(), 50, inplace=True)\n",
    "print(tabulate(customers_df[customers_df.age == customers_df.age.max()]))\n",
    "\n",
    "customers_df.describe()"
   ]
  },
  {
   "cell_type": "markdown",
   "metadata": {},
   "source": [
    "#### Membersihkan Data orders_df"
   ]
  },
  {
   "cell_type": "code",
   "execution_count": 21,
   "metadata": {},
   "outputs": [
    {
     "name": "stdout",
     "output_type": "stream",
     "text": [
      "<class 'pandas.core.frame.DataFrame'>\n",
      "RangeIndex: 1000 entries, 0 to 999\n",
      "Data columns (total 2 columns):\n",
      " #   Column         Non-Null Count  Dtype \n",
      "---  ------         --------------  ----- \n",
      " 0   order_date     1000 non-null   object\n",
      " 1   delivery_date  1000 non-null   object\n",
      "dtypes: object(2)\n",
      "memory usage: 15.8+ KB\n",
      "============================================================\n",
      "<class 'pandas.core.frame.DataFrame'>\n",
      "RangeIndex: 1000 entries, 0 to 999\n",
      "Data columns (total 2 columns):\n",
      " #   Column         Non-Null Count  Dtype         \n",
      "---  ------         --------------  -----         \n",
      " 0   order_date     1000 non-null   datetime64[ns]\n",
      " 1   delivery_date  1000 non-null   datetime64[ns]\n",
      "dtypes: datetime64[ns](2)\n",
      "memory usage: 15.8 KB\n"
     ]
    }
   ],
   "source": [
    "datetime_columns = [\"order_date\", \"delivery_date\"]\n",
    "\n",
    "orders_df[[\"order_date\", \"delivery_date\"]].info()\n",
    "for column in datetime_columns:\n",
    "  orders_df[column] = pd.to_datetime(orders_df[column])\n",
    "print(\"=\"*60)\n",
    "orders_df[[\"order_date\", \"delivery_date\"]].info()"
   ]
  },
  {
   "cell_type": "markdown",
   "metadata": {},
   "source": [
    "#### Membersihkan Data product_df"
   ]
  },
  {
   "cell_type": "code",
   "execution_count": 22,
   "metadata": {},
   "outputs": [
    {
     "name": "stdout",
     "output_type": "stream",
     "text": [
      "Jumlah duplikasi:  6\n",
      "Jumlah duplikasi:  0\n"
     ]
    }
   ],
   "source": [
    "print(\"Jumlah duplikasi: \", product_df.duplicated().sum())\n",
    "product_df.drop_duplicates(inplace=True)\n",
    "print(\"Jumlah duplikasi: \", product_df.duplicated().sum())"
   ]
  },
  {
   "cell_type": "markdown",
   "metadata": {},
   "source": [
    "#### Membersihkan Data sales_df"
   ]
  },
  {
   "cell_type": "code",
   "execution_count": 23,
   "metadata": {},
   "outputs": [
    {
     "name": "stdout",
     "output_type": "stream",
     "text": [
      "(19, 6)\n",
      "(0, 6)\n"
     ]
    }
   ],
   "source": [
    "# Menampilkan record dengan total price NaN\n",
    "# sales_df[sales_df.total_price.isna()]\n",
    "\n",
    "print(sales_df[sales_df.total_price.isna()].shape)\n",
    "# nilai total_price merupakan hasil perkalian antara price_per_unit dan quantity.\n",
    "sales_df[\"total_price\"] = sales_df[\"price_per_unit\"] * sales_df[\"quantity\"]\n",
    "print(sales_df[sales_df.total_price.isna()].shape)"
   ]
  },
  {
   "cell_type": "markdown",
   "metadata": {},
   "source": [
    "### Save data clean"
   ]
  },
  {
   "cell_type": "code",
   "execution_count": 24,
   "metadata": {},
   "outputs": [],
   "source": [
    "path_save = 'data/clean/'\n",
    "# sales_df.to_csv(path_save + 'sales_df_clean.csv', index=False)"
   ]
  },
  {
   "cell_type": "markdown",
   "metadata": {},
   "source": [
    "### Menggabungkan Data"
   ]
  },
  {
   "cell_type": "code",
   "execution_count": 26,
   "metadata": {},
   "outputs": [
    {
     "data": {
      "text/html": [
       "<div>\n",
       "<style scoped>\n",
       "    .dataframe tbody tr th:only-of-type {\n",
       "        vertical-align: middle;\n",
       "    }\n",
       "\n",
       "    .dataframe tbody tr th {\n",
       "        vertical-align: top;\n",
       "    }\n",
       "\n",
       "    .dataframe thead th {\n",
       "        text-align: right;\n",
       "    }\n",
       "</style>\n",
       "<table border=\"1\" class=\"dataframe\">\n",
       "  <thead>\n",
       "    <tr style=\"text-align: right;\">\n",
       "      <th></th>\n",
       "      <th>order_id</th>\n",
       "      <th>customer_id</th>\n",
       "      <th>payment</th>\n",
       "      <th>order_date</th>\n",
       "      <th>delivery_date</th>\n",
       "      <th>customer_name</th>\n",
       "      <th>gender</th>\n",
       "      <th>age</th>\n",
       "      <th>home_address</th>\n",
       "      <th>zip_code</th>\n",
       "      <th>city</th>\n",
       "      <th>state</th>\n",
       "      <th>country</th>\n",
       "    </tr>\n",
       "  </thead>\n",
       "  <tbody>\n",
       "    <tr>\n",
       "      <th>0</th>\n",
       "      <td>1.0</td>\n",
       "      <td>64</td>\n",
       "      <td>30811.0</td>\n",
       "      <td>2021-08-30</td>\n",
       "      <td>2021-09-24</td>\n",
       "      <td>fulan 64</td>\n",
       "      <td>Prefer not to say</td>\n",
       "      <td>75</td>\n",
       "      <td>4927 Alice MeadowApt. 960</td>\n",
       "      <td>7787</td>\n",
       "      <td>Sanfordborough</td>\n",
       "      <td>South Australia</td>\n",
       "      <td>Australia</td>\n",
       "    </tr>\n",
       "    <tr>\n",
       "      <th>1</th>\n",
       "      <td>2.0</td>\n",
       "      <td>473</td>\n",
       "      <td>50490.0</td>\n",
       "      <td>2021-02-03</td>\n",
       "      <td>2021-02-13</td>\n",
       "      <td>fulan 473</td>\n",
       "      <td>Male</td>\n",
       "      <td>61</td>\n",
       "      <td>531 Schmitt BoulevardApt. 010</td>\n",
       "      <td>1744</td>\n",
       "      <td>Annaton</td>\n",
       "      <td>South Australia</td>\n",
       "      <td>Australia</td>\n",
       "    </tr>\n",
       "  </tbody>\n",
       "</table>\n",
       "</div>"
      ],
      "text/plain": [
       "   order_id  customer_id  payment order_date delivery_date customer_name  \\\n",
       "0       1.0           64  30811.0 2021-08-30    2021-09-24      fulan 64   \n",
       "1       2.0          473  50490.0 2021-02-03    2021-02-13     fulan 473   \n",
       "\n",
       "              gender  age                   home_address  zip_code  \\\n",
       "0  Prefer not to say   75      4927 Alice MeadowApt. 960      7787   \n",
       "1               Male   61  531 Schmitt BoulevardApt. 010      1744   \n",
       "\n",
       "             city            state    country  \n",
       "0  Sanfordborough  South Australia  Australia  \n",
       "1         Annaton  South Australia  Australia  "
      ]
     },
     "execution_count": 26,
     "metadata": {},
     "output_type": "execute_result"
    }
   ],
   "source": [
    "# Menggabungkan data customers_df dan orders_df\n",
    "customers_orders_df = pd.merge(\n",
    "    left=orders_df,\n",
    "    right=customers_df,\n",
    "    how=\"outer\",\n",
    "    left_on=\"customer_id\",\n",
    "    right_on=\"customer_id\"\n",
    ")\n",
    "customers_orders_df.head(2)"
   ]
  },
  {
   "cell_type": "code",
   "execution_count": 27,
   "metadata": {},
   "outputs": [
    {
     "data": {
      "text/plain": [
       "order_id         1000\n",
       "customer_id      1000\n",
       "payment           995\n",
       "order_date        291\n",
       "delivery_date     305\n",
       "customer_name    1000\n",
       "gender              3\n",
       "age                61\n",
       "home_address     1000\n",
       "zip_code          955\n",
       "city              961\n",
       "state               8\n",
       "country             1\n",
       "dtype: int64"
      ]
     },
     "execution_count": 27,
     "metadata": {},
     "output_type": "execute_result"
    }
   ],
   "source": [
    "customers_orders_df.nunique()"
   ]
  },
  {
   "cell_type": "code",
   "execution_count": 28,
   "metadata": {},
   "outputs": [
    {
     "data": {
      "text/plain": [
       "order_id         384\n",
       "customer_id        0\n",
       "payment          384\n",
       "order_date       384\n",
       "delivery_date    384\n",
       "customer_name      0\n",
       "gender             0\n",
       "age                0\n",
       "home_address       0\n",
       "zip_code           0\n",
       "city               0\n",
       "state              0\n",
       "country            0\n",
       "dtype: int64"
      ]
     },
     "execution_count": 28,
     "metadata": {},
     "output_type": "execute_result"
    }
   ],
   "source": [
    "customers_orders_df.isna().sum()"
   ]
  },
  {
   "cell_type": "code",
   "execution_count": 31,
   "metadata": {},
   "outputs": [
    {
     "data": {
      "text/html": [
       "<div>\n",
       "<style scoped>\n",
       "    .dataframe tbody tr th:only-of-type {\n",
       "        vertical-align: middle;\n",
       "    }\n",
       "\n",
       "    .dataframe tbody tr th {\n",
       "        vertical-align: top;\n",
       "    }\n",
       "\n",
       "    .dataframe thead th {\n",
       "        text-align: right;\n",
       "    }\n",
       "</style>\n",
       "<table border=\"1\" class=\"dataframe\">\n",
       "  <thead>\n",
       "    <tr style=\"text-align: right;\">\n",
       "      <th></th>\n",
       "      <th>sales_id</th>\n",
       "      <th>order_id</th>\n",
       "      <th>product_id</th>\n",
       "      <th>price_per_unit</th>\n",
       "      <th>quantity</th>\n",
       "      <th>total_price</th>\n",
       "      <th>customer_id</th>\n",
       "      <th>payment</th>\n",
       "      <th>order_date</th>\n",
       "      <th>delivery_date</th>\n",
       "    </tr>\n",
       "  </thead>\n",
       "  <tbody>\n",
       "    <tr>\n",
       "      <th>0</th>\n",
       "      <td>0.0</td>\n",
       "      <td>1</td>\n",
       "      <td>218.0</td>\n",
       "      <td>106.0</td>\n",
       "      <td>2.0</td>\n",
       "      <td>212.0</td>\n",
       "      <td>64</td>\n",
       "      <td>30811</td>\n",
       "      <td>2021-08-30</td>\n",
       "      <td>2021-09-24</td>\n",
       "    </tr>\n",
       "    <tr>\n",
       "      <th>1</th>\n",
       "      <td>1.0</td>\n",
       "      <td>1</td>\n",
       "      <td>481.0</td>\n",
       "      <td>118.0</td>\n",
       "      <td>1.0</td>\n",
       "      <td>118.0</td>\n",
       "      <td>64</td>\n",
       "      <td>30811</td>\n",
       "      <td>2021-08-30</td>\n",
       "      <td>2021-09-24</td>\n",
       "    </tr>\n",
       "  </tbody>\n",
       "</table>\n",
       "</div>"
      ],
      "text/plain": [
       "   sales_id  order_id  product_id  price_per_unit  quantity  total_price  \\\n",
       "0       0.0         1       218.0           106.0       2.0        212.0   \n",
       "1       1.0         1       481.0           118.0       1.0        118.0   \n",
       "\n",
       "   customer_id  payment order_date delivery_date  \n",
       "0           64    30811 2021-08-30    2021-09-24  \n",
       "1           64    30811 2021-08-30    2021-09-24  "
      ]
     },
     "execution_count": 31,
     "metadata": {},
     "output_type": "execute_result"
    }
   ],
   "source": [
    "# Menggabungkan data sales_df dan orders_df\n",
    "orders_sales_df = pd.merge(\n",
    "    left=sales_df,\n",
    "    right=orders_df,\n",
    "    how=\"outer\",\n",
    "    left_on=\"order_id\",\n",
    "    right_on=\"order_id\"\n",
    ")\n",
    "orders_sales_df.head(2)"
   ]
  },
  {
   "cell_type": "code",
   "execution_count": 32,
   "metadata": {},
   "outputs": [
    {
     "data": {
      "text/plain": [
       "sales_id          7\n",
       "order_id          0\n",
       "product_id        7\n",
       "price_per_unit    7\n",
       "quantity          7\n",
       "total_price       7\n",
       "customer_id       0\n",
       "payment           0\n",
       "order_date        0\n",
       "delivery_date     0\n",
       "dtype: int64"
      ]
     },
     "execution_count": 32,
     "metadata": {},
     "output_type": "execute_result"
    }
   ],
   "source": [
    "orders_sales_df.isna().sum()"
   ]
  },
  {
   "cell_type": "code",
   "execution_count": 35,
   "metadata": {},
   "outputs": [
    {
     "data": {
      "text/html": [
       "<div>\n",
       "<style scoped>\n",
       "    .dataframe tbody tr th:only-of-type {\n",
       "        vertical-align: middle;\n",
       "    }\n",
       "\n",
       "    .dataframe tbody tr th {\n",
       "        vertical-align: top;\n",
       "    }\n",
       "\n",
       "    .dataframe thead th {\n",
       "        text-align: right;\n",
       "    }\n",
       "</style>\n",
       "<table border=\"1\" class=\"dataframe\">\n",
       "  <thead>\n",
       "    <tr style=\"text-align: right;\">\n",
       "      <th></th>\n",
       "      <th>sales_id</th>\n",
       "      <th>order_id</th>\n",
       "      <th>product_id</th>\n",
       "      <th>price_per_unit</th>\n",
       "      <th>quantity_x</th>\n",
       "      <th>total_price</th>\n",
       "      <th>product_type</th>\n",
       "      <th>product_name</th>\n",
       "      <th>size</th>\n",
       "      <th>colour</th>\n",
       "      <th>price</th>\n",
       "      <th>quantity_y</th>\n",
       "      <th>description</th>\n",
       "    </tr>\n",
       "  </thead>\n",
       "  <tbody>\n",
       "    <tr>\n",
       "      <th>0</th>\n",
       "      <td>0.0</td>\n",
       "      <td>1.0</td>\n",
       "      <td>218</td>\n",
       "      <td>106.0</td>\n",
       "      <td>2.0</td>\n",
       "      <td>212.0</td>\n",
       "      <td>Shirt</td>\n",
       "      <td>Chambray</td>\n",
       "      <td>L</td>\n",
       "      <td>orange</td>\n",
       "      <td>105</td>\n",
       "      <td>44</td>\n",
       "      <td>A orange coloured, L sized, Chambray Shirt</td>\n",
       "    </tr>\n",
       "    <tr>\n",
       "      <th>1</th>\n",
       "      <td>1129.0</td>\n",
       "      <td>233.0</td>\n",
       "      <td>218</td>\n",
       "      <td>106.0</td>\n",
       "      <td>3.0</td>\n",
       "      <td>318.0</td>\n",
       "      <td>Shirt</td>\n",
       "      <td>Chambray</td>\n",
       "      <td>L</td>\n",
       "      <td>orange</td>\n",
       "      <td>105</td>\n",
       "      <td>44</td>\n",
       "      <td>A orange coloured, L sized, Chambray Shirt</td>\n",
       "    </tr>\n",
       "  </tbody>\n",
       "</table>\n",
       "</div>"
      ],
      "text/plain": [
       "   sales_id  order_id  product_id  price_per_unit  quantity_x  total_price  \\\n",
       "0       0.0       1.0         218           106.0         2.0        212.0   \n",
       "1    1129.0     233.0         218           106.0         3.0        318.0   \n",
       "\n",
       "  product_type product_name size  colour  price  quantity_y  \\\n",
       "0        Shirt     Chambray    L  orange    105          44   \n",
       "1        Shirt     Chambray    L  orange    105          44   \n",
       "\n",
       "                                  description  \n",
       "0  A orange coloured, L sized, Chambray Shirt  \n",
       "1  A orange coloured, L sized, Chambray Shirt  "
      ]
     },
     "execution_count": 35,
     "metadata": {},
     "output_type": "execute_result"
    }
   ],
   "source": [
    "# Menggabungkan data sales_df dan product_df\n",
    "product_sales_df = pd.merge(\n",
    "    left=sales_df,\n",
    "    right=product_df,\n",
    "    how=\"outer\",\n",
    "    left_on=\"product_id\",\n",
    "    right_on=\"product_id\"\n",
    ")\n",
    "product_sales_df.head(2)"
   ]
  },
  {
   "cell_type": "code",
   "execution_count": 36,
   "metadata": {},
   "outputs": [
    {
     "data": {
      "text/plain": [
       "sales_id          27\n",
       "order_id          27\n",
       "product_id         0\n",
       "price_per_unit    27\n",
       "quantity_x        27\n",
       "total_price       27\n",
       "product_type       0\n",
       "product_name       0\n",
       "size               0\n",
       "colour             0\n",
       "price              0\n",
       "quantity_y         0\n",
       "description        0\n",
       "dtype: int64"
      ]
     },
     "execution_count": 36,
     "metadata": {},
     "output_type": "execute_result"
    }
   ],
   "source": [
    "product_sales_df.isna().sum()"
   ]
  }
 ],
 "metadata": {
  "kernelspec": {
   "display_name": "Python 3",
   "language": "python",
   "name": "python3"
  },
  "language_info": {
   "codemirror_mode": {
    "name": "ipython",
    "version": 3
   },
   "file_extension": ".py",
   "mimetype": "text/x-python",
   "name": "python",
   "nbconvert_exporter": "python",
   "pygments_lexer": "ipython3",
   "version": "3.10.2"
  }
 },
 "nbformat": 4,
 "nbformat_minor": 2
}

{
 "cells": [
  {
   "cell_type": "code",
   "execution_count": 1,
   "metadata": {},
   "outputs": [
    {
     "name": "stdout",
     "output_type": "stream",
     "text": [
      "Requirement already satisfied: kaggle in c:\\users\\ibra\\appdata\\local\\programs\\python\\python310\\lib\\site-packages (1.5.16)\n",
      "Requirement already satisfied: six>=1.10 in c:\\users\\ibra\\appdata\\local\\programs\\python\\python310\\lib\\site-packages (from kaggle) (1.16.0)\n",
      "Requirement already satisfied: certifi in c:\\users\\ibra\\appdata\\local\\programs\\python\\python310\\lib\\site-packages (from kaggle) (2021.10.8)\n",
      "Requirement already satisfied: tqdm in c:\\users\\ibra\\appdata\\local\\programs\\python\\python310\\lib\\site-packages (from kaggle) (4.64.0)\n",
      "Requirement already satisfied: python-slugify in c:\\users\\ibra\\appdata\\local\\programs\\python\\python310\\lib\\site-packages (from kaggle) (8.0.1)\n",
      "Requirement already satisfied: python-dateutil in c:\\users\\ibra\\appdata\\local\\programs\\python\\python310\\lib\\site-packages (from kaggle) (2.8.2)\n",
      "Requirement already satisfied: urllib3 in c:\\users\\ibra\\appdata\\local\\programs\\python\\python310\\lib\\site-packages (from kaggle) (1.26.9)\n",
      "Requirement already satisfied: requests in c:\\users\\ibra\\appdata\\local\\programs\\python\\python310\\lib\\site-packages (from kaggle) (2.27.1)\n",
      "Requirement already satisfied: bleach in c:\\users\\ibra\\appdata\\local\\programs\\python\\python310\\lib\\site-packages (from kaggle) (6.1.0)\n",
      "Requirement already satisfied: webencodings in c:\\users\\ibra\\appdata\\local\\programs\\python\\python310\\lib\\site-packages (from bleach->kaggle) (0.5.1)\n",
      "Requirement already satisfied: text-unidecode>=1.3 in c:\\users\\ibra\\appdata\\local\\programs\\python\\python310\\lib\\site-packages (from python-slugify->kaggle) (1.3)\n",
      "Requirement already satisfied: charset-normalizer~=2.0.0 in c:\\users\\ibra\\appdata\\local\\programs\\python\\python310\\lib\\site-packages (from requests->kaggle) (2.0.12)\n",
      "Requirement already satisfied: idna<4,>=2.5 in c:\\users\\ibra\\appdata\\local\\programs\\python\\python310\\lib\\site-packages (from requests->kaggle) (3.3)\n",
      "Requirement already satisfied: colorama in c:\\users\\ibra\\appdata\\roaming\\python\\python310\\site-packages (from tqdm->kaggle) (0.4.4)\n"
     ]
    },
    {
     "name": "stderr",
     "output_type": "stream",
     "text": [
      "WARNING: There was an error checking the latest version of pip.\n"
     ]
    }
   ],
   "source": [
    "!pip install kaggle"
   ]
  },
  {
   "cell_type": "code",
   "execution_count": 4,
   "metadata": {},
   "outputs": [],
   "source": [
    "import kaggle\n",
    "from kaggle.api.kaggle_api_extended import KaggleApi"
   ]
  },
  {
   "cell_type": "code",
   "execution_count": 5,
   "metadata": {},
   "outputs": [],
   "source": [
    "api = KaggleApi()\n",
    "api.authenticate()"
   ]
  },
  {
   "cell_type": "code",
   "execution_count": null,
   "metadata": {},
   "outputs": [],
   "source": [
    "### data competition\n",
    "api.competition_download_file('stanford-ribonanza-rna-folding',\n",
    "                              'sample_submission.csv')"
   ]
  },
  {
   "cell_type": "code",
   "execution_count": 16,
   "metadata": {},
   "outputs": [
    {
     "data": {
      "text/plain": [
       "True"
      ]
     },
     "execution_count": 16,
     "metadata": {},
     "output_type": "execute_result"
    }
   ],
   "source": [
    "### data umum\n",
    "dataset_name = \"parulpandey/palmer-archipelago-antarctica-penguin-data\"\n",
    "file_name = \"penguins_lter.csv\"\n",
    "destination_path = \"data\"  # Ganti dengan direktori penyimpanan yang diinginkan\n",
    "\n",
    "api.dataset_download_file(dataset_name, file_name, path=destination_path, force=True)"
   ]
  },
  {
   "cell_type": "code",
   "execution_count": 15,
   "metadata": {},
   "outputs": [
    {
     "name": "stdout",
     "output_type": "stream",
     "text": [
      "Downloading palmer-archipelago-antarctica-penguin-data.zip to data\n",
      "\n"
     ]
    },
    {
     "name": "stderr",
     "output_type": "stream",
     "text": [
      "\n",
      "  0%|          | 0.00/11.3k [00:00<?, ?B/s]\n",
      "100%|██████████| 11.3k/11.3k [00:00<00:00, 3.87MB/s]\n"
     ]
    }
   ],
   "source": [
    "# menggunakan API Command Kaggle\n",
    "!kaggle datasets download -d parulpandey/palmer-archipelago-antarctica-penguin-data -p data"
   ]
  },
  {
   "cell_type": "code",
   "execution_count": 1,
   "metadata": {},
   "outputs": [
    {
     "name": "stdout",
     "output_type": "stream",
     "text": [
      "Kaggle API 1.5.16\n"
     ]
    }
   ],
   "source": [
    "!kaggle --version"
   ]
  }
 ],
 "metadata": {
  "kernelspec": {
   "display_name": "Python 3",
   "language": "python",
   "name": "python3"
  },
  "language_info": {
   "codemirror_mode": {
    "name": "ipython",
    "version": 3
   },
   "file_extension": ".py",
   "mimetype": "text/x-python",
   "name": "python",
   "nbconvert_exporter": "python",
   "pygments_lexer": "ipython3",
   "version": "3.10.2"
  }
 },
 "nbformat": 4,
 "nbformat_minor": 2
}
